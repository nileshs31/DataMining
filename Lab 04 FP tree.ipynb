{
 "cells": [
  {
   "cell_type": "markdown",
   "metadata": {},
   "source": [
    "##### Nilesh Sharma 2018MSCS003 Lab 04 fp tree  algorithm for Association mining"
   ]
  },
  {
   "cell_type": "code",
   "execution_count": 12,
   "metadata": {},
   "outputs": [],
   "source": [
    "import pandas as pd\n",
    "import numpy as np\n",
    "import csv\n",
    "import math\n",
    "import itertools"
   ]
  },
  {
   "cell_type": "code",
   "execution_count": 13,
   "metadata": {},
   "outputs": [],
   "source": [
    "dataSet = [{1, 2, 3, 5, 6 ,15}, {1, 3, 7}, {5, 9}, {1, 3, 4, 5, 7},{1, 3, 5, 7, 12},{5, 10},{1, 2, 3, 5, 6, 16},{1, 3, 4},{1, 3, 5, 7, 13},{1, 3, 5, 7, 14}]"
   ]
  },
  {
   "cell_type": "code",
   "execution_count": 14,
   "metadata": {},
   "outputs": [],
   "source": [
    "def Sorted(li): \n",
    "    li.sort(key = lambda x: x[1],reverse = True) \n",
    "    return li "
   ]
  },
  {
   "cell_type": "code",
   "execution_count": 5,
   "metadata": {},
   "outputs": [],
   "source": [
    "def getFirstFreqList(dataSet,supp):\n",
    "    unique=[]\n",
    "    for t in dataSet:\n",
    "        for i in t:\n",
    "            if i not in unique:\n",
    "                unique.append(i)\n",
    "    unique.sort()\n",
    "    count=0\n",
    "    counting=[]\n",
    "    for u in unique:\n",
    "        for t in dataSet:\n",
    "            for i in t:\n",
    "                if(u==i):\n",
    "                    count=count+1\n",
    "        counting.append([u,count])\n",
    "        count=0\n",
    "    counting=(Sorted(counting)) \n",
    "    freq=[]\n",
    "    for i in counting:\n",
    "        if(i[1]>=supp):\n",
    "            freq.append(i)\n",
    "    return freq"
   ]
  },
  {
   "cell_type": "code",
   "execution_count": 6,
   "metadata": {},
   "outputs": [],
   "source": [
    "def getFreqitemsets(dataSet):\n",
    "    freq= getFirstFreqList(dataSet,2)\n",
    "    itemset=[]\n",
    "    for i in range(len(dataSet)):\n",
    "        iset=[]\n",
    "        for j in freq:\n",
    "            if(j[0] in dataSet[i]):\n",
    "                iset.append(j[0])\n",
    "        itemset.append(iset)\n",
    "        \n",
    "    return itemset"
   ]
  },
  {
   "cell_type": "code",
   "execution_count": 7,
   "metadata": {},
   "outputs": [],
   "source": [
    "itemset = getFreqitemsets(dataSet)"
   ]
  },
  {
   "cell_type": "code",
   "execution_count": 8,
   "metadata": {},
   "outputs": [
    {
     "data": {
      "text/plain": [
       "[[1, 3, 5, 2, 6],\n",
       " [1, 3, 7],\n",
       " [5],\n",
       " [1, 3, 5, 7, 4],\n",
       " [1, 3, 5, 7],\n",
       " [5],\n",
       " [1, 3, 5, 2, 6],\n",
       " [1, 3, 4],\n",
       " [1, 3, 5, 7],\n",
       " [1, 3, 5, 7]]"
      ]
     },
     "execution_count": 8,
     "metadata": {},
     "output_type": "execute_result"
    }
   ],
   "source": [
    "itemset"
   ]
  },
  {
   "cell_type": "code",
   "execution_count": null,
   "metadata": {},
   "outputs": [],
   "source": [
    "        "
   ]
  },
  {
   "cell_type": "code",
   "execution_count": null,
   "metadata": {},
   "outputs": [],
   "source": []
  },
  {
   "cell_type": "code",
   "execution_count": null,
   "metadata": {},
   "outputs": [],
   "source": []
  },
  {
   "cell_type": "code",
   "execution_count": null,
   "metadata": {},
   "outputs": [],
   "source": []
  }
 ],
 "metadata": {
  "kernelspec": {
   "display_name": "Python 3",
   "language": "python",
   "name": "python3"
  },
  "language_info": {
   "codemirror_mode": {
    "name": "ipython",
    "version": 3
   },
   "file_extension": ".py",
   "mimetype": "text/x-python",
   "name": "python",
   "nbconvert_exporter": "python",
   "pygments_lexer": "ipython3",
   "version": "3.6.5"
  }
 },
 "nbformat": 4,
 "nbformat_minor": 2
}
