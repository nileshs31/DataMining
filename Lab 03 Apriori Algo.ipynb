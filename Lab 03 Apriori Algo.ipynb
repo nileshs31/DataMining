{
 "cells": [
  {
   "cell_type": "markdown",
   "metadata": {},
   "source": [
    "##### Nilesh Sharma 2018MSCS003 Lab 03 Apriori algorithm for Association mining"
   ]
  },
  {
   "cell_type": "code",
   "execution_count": 1,
   "metadata": {},
   "outputs": [],
   "source": [
    "import pandas as pd\n",
    "import numpy as np\n",
    "import csv\n",
    "import math\n",
    "import itertools"
   ]
  },
  {
   "cell_type": "code",
   "execution_count": 2,
   "metadata": {},
   "outputs": [
    {
     "name": "stdout",
     "output_type": "stream",
     "text": [
      "[{1, 3, 4}, {2, 3, 5}, {1, 2, 3, 5}, {2, 5}]\n"
     ]
    }
   ],
   "source": [
    "dataSet = [{1, 3, 4}, {2, 3, 5}, {1, 2, 3, 5}, {2, 5}]\n",
    "print(dataSet)"
   ]
  },
  {
   "cell_type": "code",
   "execution_count": 188,
   "metadata": {},
   "outputs": [],
   "source": [
    "def createC1(data):   #candidate set for level 1\n",
    "    C1 = []\n",
    "    for i in data:\n",
    "        for j in i:\n",
    "            if [j] not in C1:\n",
    "                C1.append([j])\n",
    "                \n",
    "    C1.sort()\n",
    "   # print(C1)\n",
    "    return list(map(frozenset, C1))    #so that the hash value doesnt change and it can be used as a key\n",
    "\n",
    "C=createC1(dataSet)\n",
    "#C"
   ]
  },
  {
   "cell_type": "code",
   "execution_count": 16,
   "metadata": {},
   "outputs": [
    {
     "data": {
      "text/plain": [
       "[frozenset({1}), frozenset({3}), frozenset({2}), frozenset({5})]"
      ]
     },
     "execution_count": 16,
     "metadata": {},
     "output_type": "execute_result"
    }
   ],
   "source": [
    "def createFrequent(data, C, minSupport):    \n",
    "    candi = {}\n",
    "    for i in data:\n",
    "        for can in C:\n",
    "            if can.issubset(i):\n",
    "                if can not in candi:\n",
    "                    candi[can]=1\n",
    "                else: \n",
    "                    candi[can] += 1\n",
    "                    \n",
    "    numItems = float(len(data))\n",
    "    L = []\n",
    "    supp = {}\n",
    "    for key in candi:\n",
    "        support = (candi[key]/numItems) * 100\n",
    "        if support >= minSupport:\n",
    "            #L.insert(0,key)\n",
    "            L.append(key)\n",
    "        supp[key] = support\n",
    "        \n",
    "    #print(candi)\n",
    "    return L, supp\n",
    "\n",
    "L,sup= createFrequent(dataSet, C, 50)\n",
    "#L\n",
    "#print(sup.keys())"
   ]
  },
  {
   "cell_type": "code",
   "execution_count": 5,
   "metadata": {},
   "outputs": [],
   "source": [
    "#generating Candidate lists after step 1\n",
    "def createC(L, n):        #L = frequent set      n = length of itemset\n",
    "    freqList = []\n",
    "    lenL = len(L)\n",
    "    for i in range(lenL):\n",
    "        for j in range(i+1, lenL): \n",
    "            L1 = list(L[i])[:n-2] #slicing\n",
    "            L2 = list(L[j])[:n-2] \n",
    "            L1.sort() \n",
    "            L2.sort()\n",
    "            if L1==L2: #if first n-2 elements are equal\n",
    "                freqList.append(L[i] | L[j]) #set union\n",
    "    return freqList"
   ]
  },
  {
   "cell_type": "code",
   "execution_count": 6,
   "metadata": {},
   "outputs": [],
   "source": [
    "#L2=createC(L,2)\n",
    "#L2"
   ]
  },
  {
   "cell_type": "code",
   "execution_count": 7,
   "metadata": {},
   "outputs": [],
   "source": [
    "#L3=createC(L2,3)\n",
    "#L3"
   ]
  },
  {
   "cell_type": "code",
   "execution_count": 8,
   "metadata": {},
   "outputs": [],
   "source": [
    "#L4=createC(L3,4)\n",
    "#L4"
   ]
  },
  {
   "cell_type": "code",
   "execution_count": 13,
   "metadata": {},
   "outputs": [],
   "source": [
    "def apriori(data, minSupport):\n",
    "    C1 = createC1(dataSet)\n",
    "    L1, supp = createFrequent(data, C1, minSupport)\n",
    "    L = [L1]\n",
    "    k = 2\n",
    "    while (len(L[k-2]) > 0):\n",
    "        Ck = createC(L[k-2], k)\n",
    "        Lk, supK = createFrequent(data, Ck, minSupport)\n",
    "        supp.update(supK)\n",
    "        L.append(Lk)\n",
    "        k += 1\n",
    "    return L, supp"
   ]
  },
  {
   "cell_type": "code",
   "execution_count": 168,
   "metadata": {},
   "outputs": [],
   "source": [
    "def confidence(fs, h, sd, mc):\n",
    "    for conseq in h:\n",
    "        conf = (sd[fs]/sd[fs-conseq])*100            #calculate confidence\n",
    "        if conf >= mc: \n",
    "            print (fs-conseq,'-->',conseq,'conf:',conf,'%')"
   ]
  },
  {
   "cell_type": "code",
   "execution_count": null,
   "metadata": {},
   "outputs": [],
   "source": []
  },
  {
   "cell_type": "code",
   "execution_count": 192,
   "metadata": {},
   "outputs": [
    {
     "name": "stdout",
     "output_type": "stream",
     "text": [
      "frozenset({3, 5}) --> frozenset({2}) conf: 100.0 %\n",
      "frozenset({2, 3}) --> frozenset({5}) conf: 100.0 %\n"
     ]
    }
   ],
   "source": [
    "def createRules(L, suppData, minConf):\n",
    "    ruleList = []\n",
    "    for i in range(2, len(L)):               #only get the sets with two or more items\n",
    "        for freqSets in L[i]:\n",
    "            #print(freqSets)\n",
    "            for item in freqSets:\n",
    "                #print(item)\n",
    "                H1 = [frozenset([item])]\n",
    "                #print(H1)\n",
    "                confidence(freqSets, H1, suppData, minConf)\n",
    "            \n",
    "L,suppData= apriori(dataSet,50)\n",
    "L = L[:-1]\n",
    "createRules(L,suppData,75)"
   ]
  },
  {
   "cell_type": "code",
   "execution_count": null,
   "metadata": {},
   "outputs": [],
   "source": []
  }
 ],
 "metadata": {
  "kernelspec": {
   "display_name": "Python 3",
   "language": "python",
   "name": "python3"
  },
  "language_info": {
   "codemirror_mode": {
    "name": "ipython",
    "version": 3
   },
   "file_extension": ".py",
   "mimetype": "text/x-python",
   "name": "python",
   "nbconvert_exporter": "python",
   "pygments_lexer": "ipython3",
   "version": "3.6.5"
  }
 },
 "nbformat": 4,
 "nbformat_minor": 2
}
