{
 "cells": [
  {
   "cell_type": "markdown",
   "metadata": {},
   "source": [
    "##### Nilesh Sharma 2018MSCS003 Lab 02 SLIQ"
   ]
  },
  {
   "cell_type": "code",
   "execution_count": 20,
   "metadata": {},
   "outputs": [],
   "source": [
    "import pandas as pd\n",
    "import numpy as np\n",
    "import csv\n",
    "import math \n",
    "from sklearn.model_selection import train_test_split"
   ]
  },
  {
   "cell_type": "code",
   "execution_count": 21,
   "metadata": {},
   "outputs": [
    {
     "name": "stdout",
     "output_type": "stream",
     "text": [
      "   age  salary  marital     car\n",
      "0   30      60   single  sports\n",
      "1   25      20   single    mini\n",
      "2   40      80  married     van\n",
      "3   45     100   single  luxury\n",
      "4   60     150  married  luxury\n",
      "5   35     120   single  sports\n",
      "6   50      70  married     van\n",
      "7   55      90   single  sports\n",
      "8   65      30  married    mini\n",
      "9   70     200   single  luxury\n"
     ]
    }
   ],
   "source": [
    "data=pd.read_csv('C:/Users/Nilesh/Desktop/cars.csv')\n",
    "print(data)"
   ]
  },
  {
   "cell_type": "code",
   "execution_count": 22,
   "metadata": {},
   "outputs": [
    {
     "name": "stdout",
     "output_type": "stream",
     "text": [
      "   rid  age  salary  marital     car\n",
      "0    1   30      60   single  sports\n",
      "1    2   25      20   single    mini\n",
      "2    3   40      80  married     van\n",
      "3    4   45     100   single  luxury\n",
      "4    5   60     150  married  luxury\n",
      "5    6   35     120   single  sports\n",
      "6    7   50      70  married     van\n",
      "7    8   55      90   single  sports\n",
      "8    9   65      30  married    mini\n",
      "9   10   70     200   single  luxury\n"
     ]
    }
   ],
   "source": [
    "rid=[]\n",
    "ridlen= len(data)\n",
    "for i in range(1,ridlen+1):\n",
    "    rid.append(i)\n",
    "    \n",
    "data.insert(loc=0, column='rid', value=rid)\n",
    "print(data)"
   ]
  },
  {
   "cell_type": "code",
   "execution_count": 23,
   "metadata": {},
   "outputs": [
    {
     "name": "stdout",
     "output_type": "stream",
     "text": [
      "['rid' 'age' 'salary' 'marital' 'car']\n"
     ]
    }
   ],
   "source": [
    "colNames = data.columns.values\n",
    "print(colNames)"
   ]
  },
  {
   "cell_type": "code",
   "execution_count": 24,
   "metadata": {},
   "outputs": [],
   "source": [
    "#classlist\n",
    "def getClassList(data,a,b,c):\n",
    "    cllist= data[[a,b]]\n",
    "    cllist.insert(loc=2, column='LEAF', value=1)\n",
    "    cllist.to_csv(c, index=False)\n",
    "    #return attlist\n",
    "\n",
    "getClassList(data,colNames[0],colNames[4],\"classlist\")"
   ]
  },
  {
   "cell_type": "code",
   "execution_count": 25,
   "metadata": {},
   "outputs": [
    {
     "name": "stderr",
     "output_type": "stream",
     "text": [
      "C:\\Users\\Nilesh\\Anaconda3\\lib\\site-packages\\ipykernel_launcher.py:4: SettingWithCopyWarning: \n",
      "A value is trying to be set on a copy of a slice from a DataFrame\n",
      "\n",
      "See the caveats in the documentation: http://pandas.pydata.org/pandas-docs/stable/indexing.html#indexing-view-versus-copy\n",
      "  after removing the cwd from sys.path.\n"
     ]
    }
   ],
   "source": [
    "#attributelist\n",
    "def getAttList(data,a,b,c):\n",
    "    attlist= data[[a,b]]\n",
    "    attlist.sort_values(by=[b],inplace=True)\n",
    "    attlist.to_csv(c, index=False)\n",
    "    #return attlist\n",
    "\n",
    "getAttList(data,colNames[0],colNames[1],\"attlist1\")\n",
    "getAttList(data,colNames[0],colNames[2],\"attlist2\")\n",
    "getAttList(data,colNames[0],colNames[3],\"attlist3\")"
   ]
  },
  {
   "cell_type": "code",
   "execution_count": 34,
   "metadata": {},
   "outputs": [
    {
     "name": "stdout",
     "output_type": "stream",
     "text": [
      "single\n"
     ]
    }
   ],
   "source": [
    "def getRecordBasedOnRID(aList,rid):\n",
    "    alist=pd.read_csv(aList)\n",
    "    rids=alist.iloc[:,0]\n",
    "    d=alist.iloc[:,1]\n",
    "    for i in range(len(rids)):\n",
    "        if rids[i] == rid:\n",
    "            return d[i]\n",
    "        \n",
    "print(getRecordBasedOnRID(\"attlist3\",2))"
   ]
  },
  {
   "cell_type": "code",
   "execution_count": 31,
   "metadata": {},
   "outputs": [
    {
     "data": {
      "text/html": [
       "<div>\n",
       "<style scoped>\n",
       "    .dataframe tbody tr th:only-of-type {\n",
       "        vertical-align: middle;\n",
       "    }\n",
       "\n",
       "    .dataframe tbody tr th {\n",
       "        vertical-align: top;\n",
       "    }\n",
       "\n",
       "    .dataframe thead th {\n",
       "        text-align: right;\n",
       "    }\n",
       "</style>\n",
       "<table border=\"1\" class=\"dataframe\">\n",
       "  <thead>\n",
       "    <tr style=\"text-align: right;\">\n",
       "      <th></th>\n",
       "      <th>rid</th>\n",
       "      <th>car</th>\n",
       "      <th>LEAF</th>\n",
       "    </tr>\n",
       "  </thead>\n",
       "  <tbody>\n",
       "    <tr>\n",
       "      <th>0</th>\n",
       "      <td>1</td>\n",
       "      <td>sports</td>\n",
       "      <td>1</td>\n",
       "    </tr>\n",
       "    <tr>\n",
       "      <th>1</th>\n",
       "      <td>2</td>\n",
       "      <td>mini</td>\n",
       "      <td>1</td>\n",
       "    </tr>\n",
       "    <tr>\n",
       "      <th>2</th>\n",
       "      <td>3</td>\n",
       "      <td>van</td>\n",
       "      <td>1</td>\n",
       "    </tr>\n",
       "    <tr>\n",
       "      <th>3</th>\n",
       "      <td>4</td>\n",
       "      <td>luxury</td>\n",
       "      <td>1</td>\n",
       "    </tr>\n",
       "    <tr>\n",
       "      <th>4</th>\n",
       "      <td>5</td>\n",
       "      <td>luxury</td>\n",
       "      <td>1</td>\n",
       "    </tr>\n",
       "    <tr>\n",
       "      <th>5</th>\n",
       "      <td>6</td>\n",
       "      <td>sports</td>\n",
       "      <td>1</td>\n",
       "    </tr>\n",
       "    <tr>\n",
       "      <th>6</th>\n",
       "      <td>7</td>\n",
       "      <td>van</td>\n",
       "      <td>1</td>\n",
       "    </tr>\n",
       "    <tr>\n",
       "      <th>7</th>\n",
       "      <td>8</td>\n",
       "      <td>sports</td>\n",
       "      <td>1</td>\n",
       "    </tr>\n",
       "    <tr>\n",
       "      <th>8</th>\n",
       "      <td>9</td>\n",
       "      <td>mini</td>\n",
       "      <td>1</td>\n",
       "    </tr>\n",
       "    <tr>\n",
       "      <th>9</th>\n",
       "      <td>10</td>\n",
       "      <td>luxury</td>\n",
       "      <td>1</td>\n",
       "    </tr>\n",
       "  </tbody>\n",
       "</table>\n",
       "</div>"
      ],
      "text/plain": [
       "   rid     car  LEAF\n",
       "0    1  sports     1\n",
       "1    2    mini     1\n",
       "2    3     van     1\n",
       "3    4  luxury     1\n",
       "4    5  luxury     1\n",
       "5    6  sports     1\n",
       "6    7     van     1\n",
       "7    8  sports     1\n",
       "8    9    mini     1\n",
       "9   10  luxury     1"
      ]
     },
     "execution_count": 31,
     "metadata": {},
     "output_type": "execute_result"
    }
   ],
   "source": [
    "def setNewLeafBasedOnRID(cList,rid,leaf):\n",
    "    clist=pd.read_csv(cList)\n",
    "    clist.loc[clist.rid == rid, 'LEAF'] = leaf\n",
    "#    clist.to_csv(cList, index=False)    to change in original file\n",
    "    return clist\n",
    "\n",
    "setNewLeafBasedOnRID(\"classlist\",1,1)"
   ]
  },
  {
   "cell_type": "code",
   "execution_count": null,
   "metadata": {},
   "outputs": [],
   "source": []
  },
  {
   "cell_type": "code",
   "execution_count": null,
   "metadata": {},
   "outputs": [],
   "source": []
  },
  {
   "cell_type": "code",
   "execution_count": null,
   "metadata": {},
   "outputs": [],
   "source": []
  },
  {
   "cell_type": "code",
   "execution_count": null,
   "metadata": {},
   "outputs": [],
   "source": []
  },
  {
   "cell_type": "code",
   "execution_count": null,
   "metadata": {},
   "outputs": [],
   "source": []
  },
  {
   "cell_type": "code",
   "execution_count": null,
   "metadata": {},
   "outputs": [],
   "source": []
  },
  {
   "cell_type": "code",
   "execution_count": null,
   "metadata": {},
   "outputs": [],
   "source": []
  },
  {
   "cell_type": "code",
   "execution_count": null,
   "metadata": {},
   "outputs": [],
   "source": []
  },
  {
   "cell_type": "code",
   "execution_count": null,
   "metadata": {},
   "outputs": [],
   "source": []
  },
  {
   "cell_type": "code",
   "execution_count": null,
   "metadata": {},
   "outputs": [],
   "source": []
  },
  {
   "cell_type": "code",
   "execution_count": null,
   "metadata": {},
   "outputs": [],
   "source": []
  },
  {
   "cell_type": "code",
   "execution_count": null,
   "metadata": {},
   "outputs": [],
   "source": []
  }
 ],
 "metadata": {
  "kernelspec": {
   "display_name": "Python 3",
   "language": "python",
   "name": "python3"
  },
  "language_info": {
   "codemirror_mode": {
    "name": "ipython",
    "version": 3
   },
   "file_extension": ".py",
   "mimetype": "text/x-python",
   "name": "python",
   "nbconvert_exporter": "python",
   "pygments_lexer": "ipython3",
   "version": "3.6.5"
  }
 },
 "nbformat": 4,
 "nbformat_minor": 2
}
