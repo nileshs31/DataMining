{
 "cells": [
  {
   "cell_type": "markdown",
   "metadata": {},
   "source": [
    "##### Text-mining Number of occurance of each token"
   ]
  },
  {
   "cell_type": "code",
   "execution_count": 24,
   "metadata": {},
   "outputs": [],
   "source": [
    "import matplotlib.pyplot as plt\n",
    "import numpy as np"
   ]
  },
  {
   "cell_type": "code",
   "execution_count": 124,
   "metadata": {},
   "outputs": [],
   "source": [
    "#samtext = \"In Brazil,, they drive on the right-hand side of the road. Brazil has a large coastline on the eastern side of South America\"\n",
    "samtext=\"Data mining is the process of discovering patterns in large data sets involving methods at the intersection of machine learning, statistics, and database systems. Data mining is an interdisciplinary subfield of computer science and statistics with an overall goal to extract information (with intelligent methods) from a data set and transform the information into a comprehensible structure for further use. Data mining is the analysis step of the knowledge discovery in databases process or KDD. Aside from the raw analysis step, it also involves database and data management aspects, data pre-processing, model and inference considerations, interestingness metrics, complexity considerations, post-processing of discovered structures, visualization, and online updating.\" "
   ]
  },
  {
   "cell_type": "code",
   "execution_count": 125,
   "metadata": {},
   "outputs": [],
   "source": [
    "def tokenize(text):\n",
    "    text=text.lower()\n",
    "    stopwords=['is','the','of','in','at','and','a','an','to','into','or','it']\n",
    "    tokens=[]\n",
    "    token=text.split(\" \")\n",
    "    for i in token:\n",
    "        if(len(i)>1 and i not in stopwords):\n",
    "            k=i.replace(\".\",\"\")\n",
    "            k=k.replace(\",\",\"\")\n",
    "            k=k.replace(\"(\",\"\")\n",
    "            k=k.replace(\")\",\"\")\n",
    "            tokens.append(k)\n",
    "    return tokens\n",
    "\n",
    "text =tokenize(samtext)"
   ]
  },
  {
   "cell_type": "code",
   "execution_count": 126,
   "metadata": {},
   "outputs": [],
   "source": [
    "t=set(text)\n",
    "t=list(t)"
   ]
  },
  {
   "cell_type": "code",
   "execution_count": 127,
   "metadata": {},
   "outputs": [
    {
     "name": "stdout",
     "output_type": "stream",
     "text": [
      "overall\n",
      "machine\n",
      "structure\n",
      "statistics\n",
      "intersection\n",
      "discovering\n",
      "complexity\n",
      "set\n",
      "kdd\n",
      "for\n",
      "learning\n",
      "databases\n",
      "model\n",
      "goal\n",
      "involving\n",
      "interdisciplinary\n",
      "methods\n",
      "process\n",
      "comprehensible\n",
      "considerations\n",
      "transform\n",
      "raw\n",
      "discovered\n",
      "structures\n",
      "online\n",
      "use\n",
      "aspects\n",
      "knowledge\n",
      "systems\n",
      "intelligent\n",
      "sets\n",
      "updating\n",
      "mining\n",
      "science\n",
      "data\n",
      "information\n",
      "discovery\n",
      "inference\n",
      "analysis\n",
      "computer\n",
      "large\n",
      "management\n",
      "metrics\n",
      "post-processing\n",
      "subfield\n",
      "with\n",
      "extract\n",
      "interestingness\n",
      "pre-processing\n",
      "aside\n",
      "from\n",
      "database\n",
      "involves\n",
      "also\n",
      "step\n",
      "patterns\n",
      "further\n",
      "visualization\n"
     ]
    }
   ],
   "source": [
    "count=[]\n",
    "for i in t:\n",
    "    count.append(text.count(i))\n",
    "    print(i)\n"
   ]
  },
  {
   "cell_type": "code",
   "execution_count": 128,
   "metadata": {},
   "outputs": [],
   "source": [
    "def plot_bar_x():\n",
    "    index = np.arange(len(t))\n",
    "    plt.bar(index, count)\n",
    "    plt.xlabel('Tokens')\n",
    "    plt.ylabel('Number of Occurance')\n",
    "    plt.xticks(index, t, fontsize=5, rotation=80)\n",
    "    plt.title('Token Occurances')\n",
    "    plt.show()"
   ]
  },
  {
   "cell_type": "code",
   "execution_count": 129,
   "metadata": {},
   "outputs": [
    {
     "data": {
      "image/png": "[encoded data removed]",
      "text/plain": [
       "<Figure size 432x288 with 1 Axes>"
      ]
     },
     "metadata": {},
     "output_type": "display_data"
    },
    {
     "name": "stdout",
     "output_type": "stream",
     "text": [
      "overall = 1\n",
      "machine = 1\n",
      "structure = 1\n",
      "statistics = 2\n",
      "intersection = 1\n",
      "discovering = 1\n",
      "complexity = 1\n",
      "set = 1\n",
      "kdd = 1\n",
      "for = 1\n",
      "learning = 1\n",
      "databases = 1\n",
      "model = 1\n",
      "goal = 1\n",
      "involving = 1\n",
      "interdisciplinary = 1\n",
      "methods = 2\n",
      "process = 2\n",
      "comprehensible = 1\n",
      "considerations = 2\n",
      "transform = 1\n",
      "raw = 1\n",
      "discovered = 1\n",
      "structures = 1\n",
      "online = 1\n",
      "use = 1\n",
      "aspects = 1\n",
      "knowledge = 1\n",
      "systems = 1\n",
      "intelligent = 1\n",
      "sets = 1\n",
      "updating = 1\n",
      "mining = 3\n",
      "science = 1\n",
      "data = 7\n",
      "information = 2\n",
      "discovery = 1\n",
      "inference = 1\n",
      "analysis = 2\n",
      "computer = 1\n",
      "large = 1\n",
      "management = 1\n",
      "metrics = 1\n",
      "post-processing = 1\n",
      "subfield = 1\n",
      "with = 2\n",
      "extract = 1\n",
      "interestingness = 1\n",
      "pre-processing = 1\n",
      "aside = 1\n",
      "from = 2\n",
      "database = 2\n",
      "involves = 1\n",
      "also = 1\n",
      "step = 2\n",
      "patterns = 1\n",
      "further = 1\n",
      "visualization = 1\n"
     ]
    }
   ],
   "source": [
    "plot_bar_x()\n",
    "for i in range(len(t)):\n",
    "    print(t[i],\"=\",count[i])"
   ]
  },
  {
   "cell_type": "markdown",
   "metadata": {},
   "source": [
    "##### Text-mining "
   ]
  },
  {
   "cell_type": "code",
   "execution_count": null,
   "metadata": {},
   "outputs": [],
   "source": []
  },
  {
   "cell_type": "code",
   "execution_count": null,
   "metadata": {},
   "outputs": [],
   "source": []
  },
  {
   "cell_type": "code",
   "execution_count": null,
   "metadata": {},
   "outputs": [],
   "source": []
  }
 ],
 "metadata": {
  "kernelspec": {
   "display_name": "Python 3",
   "language": "python",
   "name": "python3"
  },
  "language_info": {
   "codemirror_mode": {
    "name": "ipython",
    "version": 3
   },
   "file_extension": ".py",
   "mimetype": "text/x-python",
   "name": "python",
   "nbconvert_exporter": "python",
   "pygments_lexer": "ipython3",
   "version": "3.6.5"
  }
 },
 "nbformat": 4,
 "nbformat_minor": 2
}
