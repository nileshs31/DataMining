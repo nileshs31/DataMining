{
 "cells": [
  {
   "cell_type": "markdown",
   "metadata": {},
   "source": [
    "##### Nilesh Sharma 2018MSCS003 Lab 07 CLARA algorithm for clustering"
   ]
  },
  {
   "cell_type": "code",
   "execution_count": 1,
   "metadata": {},
   "outputs": [],
   "source": [
    "import pandas as pd\n",
    "import numpy as np\n",
    "import csv\n",
    "import math\n",
    "import random\n",
    "import matplotlib.pyplot as plt"
   ]
  },
  {
   "cell_type": "code",
   "execution_count": 2,
   "metadata": {},
   "outputs": [],
   "source": [
    "data=[[12, 39],[20, 36],[28, 30],[18, 52],[29, 54],[33, 46],[24, 55],[45, 59],[45, 63],[52, 74],[16, 49],[22, 33],[24, 35],[17, 51],[19, 52],[31, 45],[25, 58],[34, 52],[42, 61],[50, 75]]"
   ]
  },
  {
   "cell_type": "code",
   "execution_count": 3,
   "metadata": {},
   "outputs": [],
   "source": [
    "X=[]\n",
    "Y=[]\n",
    "for i in data:\n",
    "    X.append(i[0])\n",
    "    Y.append(i[1])"
   ]
  },
  {
   "cell_type": "code",
   "execution_count": 4,
   "metadata": {},
   "outputs": [],
   "source": [
    "#intial points selection\n",
    "def inical(k,data):\n",
    "    inipoints=[]\n",
    "    for i in range(k):\n",
    "        randp=random.choice(data)\n",
    "        inipoints.append(randp)\n",
    "    return inipoints"
   ]
  },
  {
   "cell_type": "code",
   "execution_count": 5,
   "metadata": {},
   "outputs": [],
   "source": [
    "def distcal(data,inipoints):\n",
    "    d=[]\n",
    "    for i in data:\n",
    "        d2=[]\n",
    "        for j in inipoints:\n",
    "            dis= abs(i[0]-j[0]) + abs(i[1]-j[1])\n",
    "            d2.append(dis)\n",
    "        d.append(d2)\n",
    "    return d"
   ]
  },
  {
   "cell_type": "code",
   "execution_count": 6,
   "metadata": {},
   "outputs": [],
   "source": [
    "def indexcal(d):\n",
    "    ind=[]\n",
    "    for i in d:\n",
    "        ind.append(i.index(min(i)))\n",
    "    return ind"
   ]
  },
  {
   "cell_type": "code",
   "execution_count": 7,
   "metadata": {},
   "outputs": [],
   "source": [
    "def costcal(d):\n",
    "    summ=0\n",
    "    for i in d:\n",
    "        summ+=min(i)\n",
    "    return summ"
   ]
  },
  {
   "cell_type": "code",
   "execution_count": 8,
   "metadata": {},
   "outputs": [],
   "source": [
    "k=3\n",
    "inte=50"
   ]
  },
  {
   "cell_type": "code",
   "execution_count": 9,
   "metadata": {},
   "outputs": [
    {
     "data": {
      "image/png": "[encoded data removed]",
      "text/plain": [
       "<Figure size 360x360 with 1 Axes>"
      ]
     },
     "metadata": {
      "needs_background": "light"
     },
     "output_type": "display_data"
    }
   ],
   "source": [
    "fig =plt.figure(figsize=(5,5))\n",
    "plt.scatter(X,Y,color='black')\n",
    "plt.show()"
   ]
  },
  {
   "cell_type": "code",
   "execution_count": 10,
   "metadata": {},
   "outputs": [],
   "source": [
    "def kmediods(k,data,inte):\n",
    "    inipoints=inical(k,data)\n",
    "    d= distcal(data,inipoints)\n",
    "    cost=costcal(d)\n",
    "    cent=inipoints.copy()\n",
    "    for inter in range(inte):\n",
    "        centnew = cent.copy()\n",
    "\n",
    "        ipr = random.choice(centnew)\n",
    "        randp=random.choice(data)\n",
    "        for i in range(len(centnew)):\n",
    "            if centnew[i]==ipr:\n",
    "                centnew[i]=randp\n",
    "\n",
    "        dnew=distcal(data,centnew)\n",
    "        costnew= costcal(dnew)\n",
    "\n",
    "        if costnew-cost<0:\n",
    "            cost=costnew\n",
    "            cent=centnew.copy()\n",
    "\n",
    "    return cent,cost\n"
   ]
  },
  {
   "cell_type": "code",
   "execution_count": 11,
   "metadata": {},
   "outputs": [],
   "source": [
    "def clara(k,sam,data,inte):\n",
    "    costs=[]\n",
    "    indexs=[]\n",
    "    for i in range(10):\n",
    "        randpoints=[]\n",
    "        for i in range(sam):\n",
    "            randp=random.choice(data)\n",
    "            if randp not in randpoints:\n",
    "                randpoints.append(randp)\n",
    "\n",
    "        index1,cost= kmediods(k,randpoints,inte)\n",
    "        costs.append(cost)\n",
    "        indexs.append(index1)\n",
    "\n",
    "    mincost=min(costs)\n",
    "    cos = costs.index(mincost)\n",
    "    inde= indexs[cos]\n",
    "    d= distcal(data,inde)\n",
    "    ind= indexcal(d)\n",
    "    print(ind)\n",
    "    return ind"
   ]
  },
  {
   "cell_type": "code",
   "execution_count": 12,
   "metadata": {},
   "outputs": [
    {
     "name": "stdout",
     "output_type": "stream",
     "text": [
      "[1, 1, 1, 0, 2, 2, 2, 2, 2, 2, 0, 1, 1, 0, 0, 2, 2, 2, 2, 2]\n"
     ]
    },
    {
     "data": {
      "image/png": "[encoded data removed]",
      "text/plain": [
       "<Figure size 360x360 with 1 Axes>"
      ]
     },
     "metadata": {
      "needs_background": "light"
     },
     "output_type": "display_data"
    }
   ],
   "source": [
    "ind = clara(3,15,data,50)\n",
    "fig =plt.figure(figsize=(5,5))\n",
    "col={0:'red',1:'blue',2:'yellow',3:'green',4:'cyan'}\n",
    "\n",
    "for i in range(len(data)):\n",
    "    plt.scatter(data[i][0],data[i][1],color=col[ind[i]])\n",
    "\n",
    "plt.show()"
   ]
  },
  {
   "cell_type": "code",
   "execution_count": null,
   "metadata": {},
   "outputs": [],
   "source": []
  }
 ],
 "metadata": {
  "kernelspec": {
   "display_name": "Python 3",
   "language": "python",
   "name": "python3"
  },
  "language_info": {
   "codemirror_mode": {
    "name": "ipython",
    "version": 3
   },
   "file_extension": ".py",
   "mimetype": "text/x-python",
   "name": "python",
   "nbconvert_exporter": "python",
   "pygments_lexer": "ipython3",
   "version": "3.6.5"
  }
 },
 "nbformat": 4,
 "nbformat_minor": 2
}
