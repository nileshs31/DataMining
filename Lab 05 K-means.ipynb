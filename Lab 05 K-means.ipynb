{
 "cells": [
  {
   "cell_type": "markdown",
   "metadata": {},
   "source": [
    "##### Nilesh Sharma 2018MSCS003 Lab 05 K-means algorithm for clustering"
   ]
  },
  {
   "cell_type": "code",
   "execution_count": 1,
   "metadata": {},
   "outputs": [],
   "source": [
    "import pandas as pd\n",
    "import numpy as np\n",
    "import csv\n",
    "import math\n",
    "import random\n",
    "import matplotlib.pyplot as plt"
   ]
  },
  {
   "cell_type": "code",
   "execution_count": 2,
   "metadata": {},
   "outputs": [],
   "source": [
    "data=[[12, 39],[20, 36],[28, 30],[18, 52],[29, 54],[33, 46],[24, 55],[45, 59],[45, 63],[52, 74],[16, 49],[22, 33],[24, 35],[17, 51],[19, 52],[31, 45],[25, 58],[34, 52],[42, 61],[50, 75]]"
   ]
  },
  {
   "cell_type": "code",
   "execution_count": 3,
   "metadata": {},
   "outputs": [],
   "source": [
    "X=[]\n",
    "Y=[]\n",
    "for i in data:\n",
    "    X.append(i[0])\n",
    "    Y.append(i[1])"
   ]
  },
  {
   "cell_type": "code",
   "execution_count": 4,
   "metadata": {},
   "outputs": [],
   "source": [
    "#intial points selection\n",
    "def inical(k,data):\n",
    "    inipoints=[]\n",
    "    for i in range(k):\n",
    "        randp=random.choice(data)\n",
    "        inipoints.append(randp)\n",
    "    return inipoints"
   ]
  },
  {
   "cell_type": "code",
   "execution_count": 5,
   "metadata": {},
   "outputs": [],
   "source": [
    "def distcal(data,inipoints):\n",
    "    d=[]\n",
    "    for i in data:\n",
    "        d2=[]\n",
    "        for j in inipoints:\n",
    "            dis= (i[0]-j[0])**2 + (i[1]-j[1])**2\n",
    "            d2.append(np.sqrt(dis))\n",
    "        d.append(d2)\n",
    "    return d"
   ]
  },
  {
   "cell_type": "code",
   "execution_count": 6,
   "metadata": {},
   "outputs": [],
   "source": [
    "def indexcal(d):\n",
    "    ind=[]\n",
    "    for i in d:\n",
    "        ind.append(i.index(min(i)))\n",
    "    return ind"
   ]
  },
  {
   "cell_type": "code",
   "execution_count": 12,
   "metadata": {},
   "outputs": [],
   "source": [
    "k=6\n",
    "inte=20"
   ]
  },
  {
   "cell_type": "code",
   "execution_count": 13,
   "metadata": {},
   "outputs": [
    {
     "data": {
      "image/png": "[encoded data removed]",
      "text/plain": [
       "<Figure size 360x360 with 1 Axes>"
      ]
     },
     "metadata": {},
     "output_type": "display_data"
    }
   ],
   "source": [
    "fig =plt.figure(figsize=(5,5))\n",
    "plt.scatter(X,Y,color='black')\n",
    "plt.show()"
   ]
  },
  {
   "cell_type": "code",
   "execution_count": 14,
   "metadata": {},
   "outputs": [],
   "source": [
    "def kmeans(k,data,inte):\n",
    "    inipoints=inical(k,data)\n",
    "    d= distcal(data,inipoints)\n",
    "    ind= indexcal(d)\n",
    "    for inter in range(inte):\n",
    "        ki=list(set(ind))\n",
    "        summ=[]\n",
    "        for i in ki:\n",
    "            su=0\n",
    "            su2=0\n",
    "            count=0\n",
    "            for j in range(len(data)):\n",
    "                if(i==ind[j]):\n",
    "                    su+=data[j][0]\n",
    "                    su2+=data[j][1]\n",
    "                    count+=1\n",
    "            su=su/count\n",
    "            su2=su2/count\n",
    "            summ.append([su,su2])\n",
    "\n",
    "        d= distcal(data,summ)\n",
    "        ind= indexcal(d)\n",
    "    \n",
    "    return ind"
   ]
  },
  {
   "cell_type": "code",
   "execution_count": 15,
   "metadata": {},
   "outputs": [],
   "source": [
    "index1= kmeans(k,data,inte)"
   ]
  },
  {
   "cell_type": "code",
   "execution_count": 16,
   "metadata": {},
   "outputs": [
    {
     "data": {
      "image/png": "[encoded data removed]",
      "text/plain": [
       "<Figure size 360x360 with 1 Axes>"
      ]
     },
     "metadata": {},
     "output_type": "display_data"
    }
   ],
   "source": [
    "fig =plt.figure(figsize=(5,5))\n",
    "col={0:'red',1:'blue',2:'yellow',3:'green',4:'cyan'}\n",
    "\n",
    "for i in range(len(data)):\n",
    "    plt.scatter(data[i][0],data[i][1],color=col[index1[i]])\n",
    "\n",
    "plt.show()"
   ]
  },
  {
   "cell_type": "code",
   "execution_count": null,
   "metadata": {},
   "outputs": [],
   "source": []
  },
  {
   "cell_type": "code",
   "execution_count": null,
   "metadata": {},
   "outputs": [],
   "source": []
  },
  {
   "cell_type": "code",
   "execution_count": null,
   "metadata": {},
   "outputs": [],
   "source": []
  },
  {
   "cell_type": "code",
   "execution_count": null,
   "metadata": {},
   "outputs": [],
   "source": []
  },
  {
   "cell_type": "code",
   "execution_count": null,
   "metadata": {},
   "outputs": [],
   "source": []
  }
 ],
 "metadata": {
  "kernelspec": {
   "display_name": "Python 3",
   "language": "python",
   "name": "python3"
  },
  "language_info": {
   "codemirror_mode": {
    "name": "ipython",
    "version": 3
   },
   "file_extension": ".py",
   "mimetype": "text/x-python",
   "name": "python",
   "nbconvert_exporter": "python",
   "pygments_lexer": "ipython3",
   "version": "3.6.5"
  }
 },
 "nbformat": 4,
 "nbformat_minor": 2
}
